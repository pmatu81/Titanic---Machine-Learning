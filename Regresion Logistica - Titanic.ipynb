{
 "cells": [
  {
   "cell_type": "code",
   "execution_count": 1,
   "id": "8216603c-a712-4a35-971f-b74ac406dc1f",
   "metadata": {},
   "outputs": [],
   "source": [
    "import seaborn as sns\n",
    "import pandas as pd\n",
    "import numpy as np\n",
    "import matplotlib.pyplot as plt"
   ]
  },
  {
   "cell_type": "markdown",
   "id": "80b809ed-bc04-4615-b157-aa5e1183e5d8",
   "metadata": {},
   "source": [
    "# Regresión Logística"
   ]
  },
  {
   "cell_type": "markdown",
   "id": "69282111-dab9-4f8c-8518-40e4e2e10dd7",
   "metadata": {},
   "source": [
    "## Titanic\n",
    "Vamos a crear un modelo que prediga la probabilidad de supervivencia de los pasajeros\n",
    "\n",
    "https://www.kaggle.com/c/titanic/data?select=train.csv"
   ]
  },
  {
   "cell_type": "markdown",
   "id": "dc905247-e525-4036-8205-de961aabf0c4",
   "metadata": {},
   "source": [
    "0. Importar data de training y testing. Agregarle a la tabla de testing la columna survived proveniente de la tabla gender_submission"
   ]
  },
  {
   "cell_type": "code",
   "execution_count": 2,
   "id": "a617b09c-dc05-4b49-9576-e722b5196a07",
   "metadata": {},
   "outputs": [],
   "source": [
    "train_data = pd.read_csv(\"Titanic/train.csv\")\n",
    "test_data = pd.read_csv(\"Titanic/test.csv\")"
   ]
  },
  {
   "cell_type": "code",
   "execution_count": 3,
   "id": "703429b7-a053-47d1-a9f6-5bfe4e54be31",
   "metadata": {},
   "outputs": [
    {
     "data": {
      "text/html": [
       "<div>\n",
       "<style scoped>\n",
       "    .dataframe tbody tr th:only-of-type {\n",
       "        vertical-align: middle;\n",
       "    }\n",
       "\n",
       "    .dataframe tbody tr th {\n",
       "        vertical-align: top;\n",
       "    }\n",
       "\n",
       "    .dataframe thead th {\n",
       "        text-align: right;\n",
       "    }\n",
       "</style>\n",
       "<table border=\"1\" class=\"dataframe\">\n",
       "  <thead>\n",
       "    <tr style=\"text-align: right;\">\n",
       "      <th></th>\n",
       "      <th>PassengerId</th>\n",
       "      <th>Survived</th>\n",
       "    </tr>\n",
       "  </thead>\n",
       "  <tbody>\n",
       "    <tr>\n",
       "      <th>0</th>\n",
       "      <td>892</td>\n",
       "      <td>0</td>\n",
       "    </tr>\n",
       "    <tr>\n",
       "      <th>1</th>\n",
       "      <td>893</td>\n",
       "      <td>1</td>\n",
       "    </tr>\n",
       "    <tr>\n",
       "      <th>2</th>\n",
       "      <td>894</td>\n",
       "      <td>0</td>\n",
       "    </tr>\n",
       "    <tr>\n",
       "      <th>3</th>\n",
       "      <td>895</td>\n",
       "      <td>0</td>\n",
       "    </tr>\n",
       "    <tr>\n",
       "      <th>4</th>\n",
       "      <td>896</td>\n",
       "      <td>1</td>\n",
       "    </tr>\n",
       "  </tbody>\n",
       "</table>\n",
       "</div>"
      ],
      "text/plain": [
       "   PassengerId  Survived\n",
       "0          892         0\n",
       "1          893         1\n",
       "2          894         0\n",
       "3          895         0\n",
       "4          896         1"
      ]
     },
     "execution_count": 3,
     "metadata": {},
     "output_type": "execute_result"
    }
   ],
   "source": [
    "resultados = pd.read_csv(\"Titanic/gender_submission.csv\")\n",
    "resultados.head()"
   ]
  },
  {
   "cell_type": "code",
   "execution_count": 4,
   "id": "2da1b6aa-5716-46c0-beee-2e652ca0cf7c",
   "metadata": {},
   "outputs": [
    {
     "data": {
      "text/plain": [
       "(418, 11)"
      ]
     },
     "execution_count": 4,
     "metadata": {},
     "output_type": "execute_result"
    }
   ],
   "source": [
    "test_data.shape"
   ]
  },
  {
   "cell_type": "code",
   "execution_count": 5,
   "id": "9e068273-234b-470b-b6bc-4e012655bd58",
   "metadata": {},
   "outputs": [
    {
     "data": {
      "text/plain": [
       "(418, 12)"
      ]
     },
     "execution_count": 5,
     "metadata": {},
     "output_type": "execute_result"
    }
   ],
   "source": [
    "test_data = test_data.merge(resultados, how = \"left\")\n",
    "test_data.shape"
   ]
  },
  {
   "cell_type": "markdown",
   "id": "dd9d9e37-fb5d-4fbc-9d35-d874e4af7097",
   "metadata": {},
   "source": [
    "1. Buscar columnas con valores nulos y cantidad de nulos en cada una. Fijarse el porcentaje de los datos nulos que representan sobre el total."
   ]
  },
  {
   "cell_type": "code",
   "execution_count": 6,
   "id": "2bc2336c-1557-4b8a-8ff3-849bacee99e6",
   "metadata": {},
   "outputs": [
    {
     "data": {
      "text/plain": [
       "PassengerId      0\n",
       "Survived         0\n",
       "Pclass           0\n",
       "Name             0\n",
       "Sex              0\n",
       "Age            177\n",
       "SibSp            0\n",
       "Parch            0\n",
       "Ticket           0\n",
       "Fare             0\n",
       "Cabin          687\n",
       "Embarked         2\n",
       "dtype: int64"
      ]
     },
     "execution_count": 6,
     "metadata": {},
     "output_type": "execute_result"
    }
   ],
   "source": [
    "train_data.isnull().sum()"
   ]
  },
  {
   "cell_type": "code",
   "execution_count": 7,
   "id": "ee8daad9-ad17-4028-b1ce-289b3a4096bd",
   "metadata": {},
   "outputs": [
    {
     "data": {
      "text/plain": [
       "PassengerId      0\n",
       "Pclass           0\n",
       "Name             0\n",
       "Sex              0\n",
       "Age             86\n",
       "SibSp            0\n",
       "Parch            0\n",
       "Ticket           0\n",
       "Fare             1\n",
       "Cabin          327\n",
       "Embarked         0\n",
       "Survived         0\n",
       "dtype: int64"
      ]
     },
     "execution_count": 7,
     "metadata": {},
     "output_type": "execute_result"
    }
   ],
   "source": [
    "test_data.isnull().sum()"
   ]
  },
  {
   "cell_type": "code",
   "execution_count": 8,
   "id": "e23fcd4c-e1be-4edf-a935-9ceddfbaa852",
   "metadata": {},
   "outputs": [
    {
     "name": "stdout",
     "output_type": "stream",
     "text": [
      "La columna Age tiene un 19.865319865319865%\n",
      "La columna Cabin tiene un 77.10437710437711%\n",
      "La columna Embarked tiene un 0.22446689113355783%\n"
     ]
    }
   ],
   "source": [
    "total_filas = train_data.shape[0]\n",
    "print(f\"La columna Age tiene un {177/total_filas*100}%\")\n",
    "print(f\"La columna Cabin tiene un {687/total_filas*100}%\")\n",
    "print(f\"La columna Embarked tiene un {2/total_filas*100}%\")"
   ]
  },
  {
   "cell_type": "markdown",
   "id": "8d3d80cf-8f51-4d95-ad81-cee2e6caad39",
   "metadata": {},
   "source": [
    "2. En base al resultado anterior. Cuales columnas consideran que tienen sentido completar y cuales se deberían eliminar? Eliminar la que corresponda de la tabla de test y de train."
   ]
  },
  {
   "cell_type": "code",
   "execution_count": 9,
   "id": "dbbc0168-132c-48a0-bfbe-0e51ae5a61ae",
   "metadata": {},
   "outputs": [],
   "source": [
    "# se debería eliminar la columna Cabin y completar las otras dos\n",
    "train_data.drop(\"Cabin\", axis = \"columns\", inplace = True)\n",
    "test_data.drop(\"Cabin\", axis = \"columns\", inplace = True)"
   ]
  },
  {
   "cell_type": "markdown",
   "id": "29588450-5c78-4dba-af9b-bc2a37c561c2",
   "metadata": {},
   "source": [
    "3. Completar valores nulos con el criterio que considres correcto en cada una de las columnas (que tengan sentido completar). Esto debe hacerse tanto en la tabla de training como la de testing (con el mismo criterio en ambas).\n",
    "\n",
    "   Verificar como se distribuyen los valores de cada columna con un gráfico previamente para tener más herramientas en la decisión"
   ]
  },
  {
   "cell_type": "code",
   "execution_count": 10,
   "id": "d320bb1a-0751-4371-99a1-553379f28958",
   "metadata": {},
   "outputs": [
    {
     "data": {
      "text/plain": [
       "<Axes: xlabel='Age', ylabel='Count'>"
      ]
     },
     "execution_count": 10,
     "metadata": {},
     "output_type": "execute_result"
    },
    {
     "data": {
      "image/png": "[encoded data removed]",
      "text/plain": [
       "<Figure size 640x480 with 1 Axes>"
      ]
     },
     "metadata": {},
     "output_type": "display_data"
    }
   ],
   "source": [
    "# Verifico como se distribuyen las edades\n",
    "sns.histplot(train_data[\"Age\"], kde = True)"
   ]
  },
  {
   "cell_type": "code",
   "execution_count": 11,
   "id": "dda972fc-296a-4ab4-b53e-a64ae7bbb555",
   "metadata": {},
   "outputs": [
    {
     "name": "stdout",
     "output_type": "stream",
     "text": [
      "28.0\n",
      "29.69911764705882\n"
     ]
    }
   ],
   "source": [
    "print(train_data[\"Age\"].median())\n",
    "print(train_data[\"Age\"].mean())"
   ]
  },
  {
   "cell_type": "code",
   "execution_count": 12,
   "id": "ac01738d-6b21-4052-86fa-33086dd9c12e",
   "metadata": {},
   "outputs": [],
   "source": [
    "# age -> completo con la edad mediana\n",
    "train_data[\"Age\"].fillna(\n",
    "    train_data[\"Age\"].median(), \n",
    "    inplace=True\n",
    ")\n",
    "\n",
    "test_data[\"Age\"].fillna(\n",
    "    test_data[\"Age\"].median(), \n",
    "    inplace=True\n",
    ")"
   ]
  },
  {
   "cell_type": "code",
   "execution_count": 13,
   "id": "4ad9acee-8a6b-4ae2-8c4e-8b7a787f3c77",
   "metadata": {},
   "outputs": [
    {
     "data": {
      "text/plain": [
       "<Axes: xlabel='Embarked', ylabel='PassengerId'>"
      ]
     },
     "execution_count": 13,
     "metadata": {},
     "output_type": "execute_result"
    },
    {
     "data": {
      "image/png": "[encoded data removed]",
      "text/plain": [
       "<Figure size 640x480 with 1 Axes>"
      ]
     },
     "metadata": {},
     "output_type": "display_data"
    }
   ],
   "source": [
    "# Verifico como se distribuyen la columna Embarked\n",
    "embarked = train_data.groupby(\"Embarked\").agg({\"PassengerId\":\"count\"}).reset_index()\n",
    "sns.barplot(x=embarked[\"Embarked\"], y=embarked[\"PassengerId\"], hue = embarked[\"Embarked\"], palette='Set2')"
   ]
  },
  {
   "cell_type": "code",
   "execution_count": 14,
   "id": "637a7bb2-7522-4c4c-a59a-cb5f9e674a66",
   "metadata": {},
   "outputs": [],
   "source": [
    "# completo con el valor que más se repite, que es la \"S\"\n",
    "train_data[\"Embarked\"].fillna(\n",
    "    train_data['Embarked'].value_counts().idxmax(), \n",
    "    inplace=True\n",
    ")"
   ]
  },
  {
   "cell_type": "code",
   "execution_count": 15,
   "id": "000b4b5f-aeb6-4be2-82a3-faf9ee79487d",
   "metadata": {},
   "outputs": [
    {
     "data": {
      "text/html": [
       "<div>\n",
       "<style scoped>\n",
       "    .dataframe tbody tr th:only-of-type {\n",
       "        vertical-align: middle;\n",
       "    }\n",
       "\n",
       "    .dataframe tbody tr th {\n",
       "        vertical-align: top;\n",
       "    }\n",
       "\n",
       "    .dataframe thead th {\n",
       "        text-align: right;\n",
       "    }\n",
       "</style>\n",
       "<table border=\"1\" class=\"dataframe\">\n",
       "  <thead>\n",
       "    <tr style=\"text-align: right;\">\n",
       "      <th></th>\n",
       "      <th>PassengerId</th>\n",
       "      <th>Pclass</th>\n",
       "      <th>Name</th>\n",
       "      <th>Sex</th>\n",
       "      <th>Age</th>\n",
       "      <th>SibSp</th>\n",
       "      <th>Parch</th>\n",
       "      <th>Ticket</th>\n",
       "      <th>Fare</th>\n",
       "      <th>Embarked</th>\n",
       "      <th>Survived</th>\n",
       "    </tr>\n",
       "  </thead>\n",
       "  <tbody>\n",
       "    <tr>\n",
       "      <th>152</th>\n",
       "      <td>1044</td>\n",
       "      <td>3</td>\n",
       "      <td>Storey, Mr. Thomas</td>\n",
       "      <td>male</td>\n",
       "      <td>60.5</td>\n",
       "      <td>0</td>\n",
       "      <td>0</td>\n",
       "      <td>3701</td>\n",
       "      <td>NaN</td>\n",
       "      <td>S</td>\n",
       "      <td>0</td>\n",
       "    </tr>\n",
       "  </tbody>\n",
       "</table>\n",
       "</div>"
      ],
      "text/plain": [
       "     PassengerId  Pclass                Name   Sex   Age  SibSp  Parch Ticket  \\\n",
       "152         1044       3  Storey, Mr. Thomas  male  60.5      0      0   3701   \n",
       "\n",
       "     Fare Embarked  Survived  \n",
       "152   NaN        S         0  "
      ]
     },
     "execution_count": 15,
     "metadata": {},
     "output_type": "execute_result"
    }
   ],
   "source": [
    "# Verifico como se distribuyen los fare en testing\n",
    "# es un único valor por lo que voy a verlo particularmente\n",
    "test_data.loc[test_data[\"Fare\"].isnull(),:]\n",
    "\n"
   ]
  },
  {
   "cell_type": "code",
   "execution_count": 16,
   "id": "6cce7e89-bba4-4756-9757-d72ca6a5f28a",
   "metadata": {},
   "outputs": [],
   "source": [
    "# Al ser de tercera clase, le voy a asignar el precio promedio de tercera clase\n",
    "promedio = test_data.loc[test_data[\"Pclass\"] == 3,\"Fare\"].mean()\n",
    "\n",
    "test_data[\"Fare\"].fillna(\n",
    "    promedio, \n",
    "    inplace=True\n",
    ")"
   ]
  },
  {
   "cell_type": "markdown",
   "id": "d3ee6bd0-64c0-4ac8-b85c-da016cf66099",
   "metadata": {},
   "source": [
    "4. Realizar análisis exploratorio. Graficar las personas que sobrevivieron por:\n",
    "    - Clase (Pclass)\n",
    "    - Sexo (Sex)\n",
    "    - Costo de boleto (Fare)"
   ]
  },
  {
   "cell_type": "code",
   "execution_count": 17,
   "id": "cfa4bf5e-f642-45fa-abc9-847dd564c9e2",
   "metadata": {},
   "outputs": [
    {
     "data": {
      "text/plain": [
       "<Axes: xlabel='Pclass', ylabel='Survived'>"
      ]
     },
     "execution_count": 17,
     "metadata": {},
     "output_type": "execute_result"
    },
    {
     "data": {
      "image/png": "[encoded data removed]",
      "text/plain": [
       "<Figure size 640x480 with 1 Axes>"
      ]
     },
     "metadata": {},
     "output_type": "display_data"
    }
   ],
   "source": [
    "data_plot = train_data.groupby(\"Pclass\").agg({\"Survived\":\"sum\"}).reset_index()\n",
    "sns.barplot(x=data_plot[\"Pclass\"], y=data_plot[\"Survived\"])"
   ]
  },
  {
   "cell_type": "code",
   "execution_count": 18,
   "id": "b039726b-1c7b-4b56-8c41-8ace3048c0ed",
   "metadata": {},
   "outputs": [
    {
     "data": {
      "text/plain": [
       "<Axes: xlabel='Sex', ylabel='Survived'>"
      ]
     },
     "execution_count": 18,
     "metadata": {},
     "output_type": "execute_result"
    },
    {
     "data": {
      "image/png": "[encoded data removed]",
      "text/plain": [
       "<Figure size 640x480 with 1 Axes>"
      ]
     },
     "metadata": {},
     "output_type": "display_data"
    }
   ],
   "source": [
    "data_plot = train_data.groupby(\"Sex\").agg({\"Survived\":\"sum\"}).reset_index()\n",
    "sns.barplot(x=data_plot[\"Sex\"], y=data_plot[\"Survived\"])"
   ]
  },
  {
   "cell_type": "code",
   "execution_count": 19,
   "id": "f2127221-27d1-4338-ad09-72b66ab10ee3",
   "metadata": {},
   "outputs": [
    {
     "data": {
      "text/plain": [
       "(0.0, 200.0)"
      ]
     },
     "execution_count": 19,
     "metadata": {},
     "output_type": "execute_result"
    },
    {
     "data": {
      "image/png": "[encoded data removed]",
      "text/plain": [
       "<Figure size 640x480 with 1 Axes>"
      ]
     },
     "metadata": {},
     "output_type": "display_data"
    }
   ],
   "source": [
    "sns.histplot(x=train_data[\"Fare\"], hue=train_data[\"Survived\"],kde =True)\n",
    "plt.xlim((0,200))"
   ]
  },
  {
   "cell_type": "markdown",
   "id": "62a9d855-9078-45bc-ba03-632620d4b258",
   "metadata": {},
   "source": [
    "5. Verificar columnas del DataFrame e identificar sobre cuales se deberían generar variables dummies.\n",
    "   Generar columnas de dummies sobre \"Pclass\",\"Embarked\" y \"Sex\". Aplicar cambios en training y testing"
   ]
  },
  {
   "cell_type": "code",
   "execution_count": 20,
   "id": "e77eb639-2d69-470e-b39a-6c4d51d0896d",
   "metadata": {},
   "outputs": [],
   "source": [
    "test_data = pd.get_dummies(\n",
    "    test_data, \n",
    "    columns=[\"Pclass\",\"Embarked\",\"Sex\"],\n",
    "    drop_first = True\n",
    ")\n",
    "\n",
    "train_data = pd.get_dummies(\n",
    "    train_data, \n",
    "    columns=[\"Pclass\",\"Embarked\",\"Sex\"],\n",
    "    drop_first = True\n",
    ")"
   ]
  },
  {
   "cell_type": "code",
   "execution_count": 21,
   "id": "813a6665-f27e-47d8-8db2-4233721e0885",
   "metadata": {},
   "outputs": [
    {
     "data": {
      "text/html": [
       "<div>\n",
       "<style scoped>\n",
       "    .dataframe tbody tr th:only-of-type {\n",
       "        vertical-align: middle;\n",
       "    }\n",
       "\n",
       "    .dataframe tbody tr th {\n",
       "        vertical-align: top;\n",
       "    }\n",
       "\n",
       "    .dataframe thead th {\n",
       "        text-align: right;\n",
       "    }\n",
       "</style>\n",
       "<table border=\"1\" class=\"dataframe\">\n",
       "  <thead>\n",
       "    <tr style=\"text-align: right;\">\n",
       "      <th></th>\n",
       "      <th>PassengerId</th>\n",
       "      <th>Name</th>\n",
       "      <th>Age</th>\n",
       "      <th>SibSp</th>\n",
       "      <th>Parch</th>\n",
       "      <th>Ticket</th>\n",
       "      <th>Fare</th>\n",
       "      <th>Survived</th>\n",
       "      <th>Pclass_2</th>\n",
       "      <th>Pclass_3</th>\n",
       "      <th>Embarked_Q</th>\n",
       "      <th>Embarked_S</th>\n",
       "      <th>Sex_male</th>\n",
       "    </tr>\n",
       "  </thead>\n",
       "  <tbody>\n",
       "    <tr>\n",
       "      <th>0</th>\n",
       "      <td>892</td>\n",
       "      <td>Kelly, Mr. James</td>\n",
       "      <td>34.5</td>\n",
       "      <td>0</td>\n",
       "      <td>0</td>\n",
       "      <td>330911</td>\n",
       "      <td>7.8292</td>\n",
       "      <td>0</td>\n",
       "      <td>False</td>\n",
       "      <td>True</td>\n",
       "      <td>True</td>\n",
       "      <td>False</td>\n",
       "      <td>True</td>\n",
       "    </tr>\n",
       "    <tr>\n",
       "      <th>1</th>\n",
       "      <td>893</td>\n",
       "      <td>Wilkes, Mrs. James (Ellen Needs)</td>\n",
       "      <td>47.0</td>\n",
       "      <td>1</td>\n",
       "      <td>0</td>\n",
       "      <td>363272</td>\n",
       "      <td>7.0000</td>\n",
       "      <td>1</td>\n",
       "      <td>False</td>\n",
       "      <td>True</td>\n",
       "      <td>False</td>\n",
       "      <td>True</td>\n",
       "      <td>False</td>\n",
       "    </tr>\n",
       "    <tr>\n",
       "      <th>2</th>\n",
       "      <td>894</td>\n",
       "      <td>Myles, Mr. Thomas Francis</td>\n",
       "      <td>62.0</td>\n",
       "      <td>0</td>\n",
       "      <td>0</td>\n",
       "      <td>240276</td>\n",
       "      <td>9.6875</td>\n",
       "      <td>0</td>\n",
       "      <td>True</td>\n",
       "      <td>False</td>\n",
       "      <td>True</td>\n",
       "      <td>False</td>\n",
       "      <td>True</td>\n",
       "    </tr>\n",
       "    <tr>\n",
       "      <th>3</th>\n",
       "      <td>895</td>\n",
       "      <td>Wirz, Mr. Albert</td>\n",
       "      <td>27.0</td>\n",
       "      <td>0</td>\n",
       "      <td>0</td>\n",
       "      <td>315154</td>\n",
       "      <td>8.6625</td>\n",
       "      <td>0</td>\n",
       "      <td>False</td>\n",
       "      <td>True</td>\n",
       "      <td>False</td>\n",
       "      <td>True</td>\n",
       "      <td>True</td>\n",
       "    </tr>\n",
       "    <tr>\n",
       "      <th>4</th>\n",
       "      <td>896</td>\n",
       "      <td>Hirvonen, Mrs. Alexander (Helga E Lindqvist)</td>\n",
       "      <td>22.0</td>\n",
       "      <td>1</td>\n",
       "      <td>1</td>\n",
       "      <td>3101298</td>\n",
       "      <td>12.2875</td>\n",
       "      <td>1</td>\n",
       "      <td>False</td>\n",
       "      <td>True</td>\n",
       "      <td>False</td>\n",
       "      <td>True</td>\n",
       "      <td>False</td>\n",
       "    </tr>\n",
       "  </tbody>\n",
       "</table>\n",
       "</div>"
      ],
      "text/plain": [
       "   PassengerId                                          Name   Age  SibSp  \\\n",
       "0          892                              Kelly, Mr. James  34.5      0   \n",
       "1          893              Wilkes, Mrs. James (Ellen Needs)  47.0      1   \n",
       "2          894                     Myles, Mr. Thomas Francis  62.0      0   \n",
       "3          895                              Wirz, Mr. Albert  27.0      0   \n",
       "4          896  Hirvonen, Mrs. Alexander (Helga E Lindqvist)  22.0      1   \n",
       "\n",
       "   Parch   Ticket     Fare  Survived  Pclass_2  Pclass_3  Embarked_Q  \\\n",
       "0      0   330911   7.8292         0     False      True        True   \n",
       "1      0   363272   7.0000         1     False      True       False   \n",
       "2      0   240276   9.6875         0      True     False        True   \n",
       "3      0   315154   8.6625         0     False      True       False   \n",
       "4      1  3101298  12.2875         1     False      True       False   \n",
       "\n",
       "   Embarked_S  Sex_male  \n",
       "0       False      True  \n",
       "1        True     False  \n",
       "2       False      True  \n",
       "3        True      True  \n",
       "4        True     False  "
      ]
     },
     "execution_count": 21,
     "metadata": {},
     "output_type": "execute_result"
    }
   ],
   "source": [
    "test_data.head()"
   ]
  },
  {
   "cell_type": "markdown",
   "id": "7e472d05-0cbe-40cb-b8fa-9cbd3fe8b371",
   "metadata": {},
   "source": [
    "6. Eliminar columnas del dataset que considere que no suman al modelo. Hacerlo en testing y training"
   ]
  },
  {
   "cell_type": "code",
   "execution_count": 22,
   "id": "4e9f62c2-ee9f-4fe8-a622-2ee6236968aa",
   "metadata": {},
   "outputs": [],
   "source": [
    "train_data.drop('PassengerId', axis=1, inplace=True)\n",
    "train_data.drop('Name', axis=1, inplace=True)\n",
    "train_data.drop('Ticket', axis=1, inplace=True)\n",
    "\n",
    "test_data.drop('PassengerId', axis=1, inplace=True)\n",
    "test_data.drop('Name', axis=1, inplace=True)\n",
    "test_data.drop('Ticket', axis=1, inplace=True)"
   ]
  },
  {
   "cell_type": "markdown",
   "id": "84153db7-4a10-423a-8fda-73cd616369f7",
   "metadata": {},
   "source": [
    "7. Agregar una columna llamada \"IsMinor\" que sea 1 en caso de tener 16 años o menos y 0 en caso contrario. Hacerlo para testing y training"
   ]
  },
  {
   "cell_type": "code",
   "execution_count": 23,
   "id": "c638100f-753c-46a6-a215-322791b8eabc",
   "metadata": {},
   "outputs": [],
   "source": [
    "train_data['IsMinor']=np.where(train_data['Age']<=16, 1, 0)\n",
    "test_data['IsMinor']=np.where(test_data['Age']<=16, 1, 0)"
   ]
  },
  {
   "cell_type": "code",
   "execution_count": 24,
   "id": "ea40f447-faf9-499a-b0ef-9129ca20dd47",
   "metadata": {},
   "outputs": [
    {
     "data": {
      "text/plain": [
       "Index(['Survived', 'Age', 'SibSp', 'Parch', 'Fare', 'Pclass_2', 'Pclass_3',\n",
       "       'Embarked_Q', 'Embarked_S', 'Sex_male', 'IsMinor'],\n",
       "      dtype='object')"
      ]
     },
     "execution_count": 24,
     "metadata": {},
     "output_type": "execute_result"
    }
   ],
   "source": [
    "train_data.columns"
   ]
  },
  {
   "cell_type": "markdown",
   "id": "cf42e214-90db-4a7d-8de3-fdbb6225c316",
   "metadata": {},
   "source": [
    "8. Ajustar modelo considerando todas las variables del dataset de testing."
   ]
  },
  {
   "cell_type": "code",
   "execution_count": 25,
   "id": "3d768251-2539-4e1f-bd58-503ffe3377f5",
   "metadata": {},
   "outputs": [
    {
     "data": {
      "text/html": [
       "<style>#sk-container-id-1 {color: black;background-color: white;}#sk-container-id-1 pre{padding: 0;}#sk-container-id-1 div.sk-toggleable {background-color: white;}#sk-container-id-1 label.sk-toggleable__label {cursor: pointer;display: block;width: 100%;margin-bottom: 0;padding: 0.3em;box-sizing: border-box;text-align: center;}#sk-container-id-1 label.sk-toggleable__label-arrow:before {content: \"▸\";float: left;margin-right: 0.25em;color: #696969;}#sk-container-id-1 label.sk-toggleable__label-arrow:hover:before {color: black;}#sk-container-id-1 div.sk-estimator:hover label.sk-toggleable__label-arrow:before {color: black;}#sk-container-id-1 div.sk-toggleable__content {max-height: 0;max-width: 0;overflow: hidden;text-align: left;background-color: #f0f8ff;}#sk-container-id-1 div.sk-toggleable__content pre {margin: 0.2em;color: black;border-radius: 0.25em;background-color: #f0f8ff;}#sk-container-id-1 input.sk-toggleable__control:checked~div.sk-toggleable__content {max-height: 200px;max-width: 100%;overflow: auto;}#sk-container-id-1 input.sk-toggleable__control:checked~label.sk-toggleable__label-arrow:before {content: \"▾\";}#sk-container-id-1 div.sk-estimator input.sk-toggleable__control:checked~label.sk-toggleable__label {background-color: #d4ebff;}#sk-container-id-1 div.sk-label input.sk-toggleable__control:checked~label.sk-toggleable__label {background-color: #d4ebff;}#sk-container-id-1 input.sk-hidden--visually {border: 0;clip: rect(1px 1px 1px 1px);clip: rect(1px, 1px, 1px, 1px);height: 1px;margin: -1px;overflow: hidden;padding: 0;position: absolute;width: 1px;}#sk-container-id-1 div.sk-estimator {font-family: monospace;background-color: #f0f8ff;border: 1px dotted black;border-radius: 0.25em;box-sizing: border-box;margin-bottom: 0.5em;}#sk-container-id-1 div.sk-estimator:hover {background-color: #d4ebff;}#sk-container-id-1 div.sk-parallel-item::after {content: \"\";width: 100%;border-bottom: 1px solid gray;flex-grow: 1;}#sk-container-id-1 div.sk-label:hover label.sk-toggleable__label {background-color: #d4ebff;}#sk-container-id-1 div.sk-serial::before {content: \"\";position: absolute;border-left: 1px solid gray;box-sizing: border-box;top: 0;bottom: 0;left: 50%;z-index: 0;}#sk-container-id-1 div.sk-serial {display: flex;flex-direction: column;align-items: center;background-color: white;padding-right: 0.2em;padding-left: 0.2em;position: relative;}#sk-container-id-1 div.sk-item {position: relative;z-index: 1;}#sk-container-id-1 div.sk-parallel {display: flex;align-items: stretch;justify-content: center;background-color: white;position: relative;}#sk-container-id-1 div.sk-item::before, #sk-container-id-1 div.sk-parallel-item::before {content: \"\";position: absolute;border-left: 1px solid gray;box-sizing: border-box;top: 0;bottom: 0;left: 50%;z-index: -1;}#sk-container-id-1 div.sk-parallel-item {display: flex;flex-direction: column;z-index: 1;position: relative;background-color: white;}#sk-container-id-1 div.sk-parallel-item:first-child::after {align-self: flex-end;width: 50%;}#sk-container-id-1 div.sk-parallel-item:last-child::after {align-self: flex-start;width: 50%;}#sk-container-id-1 div.sk-parallel-item:only-child::after {width: 0;}#sk-container-id-1 div.sk-dashed-wrapped {border: 1px dashed gray;margin: 0 0.4em 0.5em 0.4em;box-sizing: border-box;padding-bottom: 0.4em;background-color: white;}#sk-container-id-1 div.sk-label label {font-family: monospace;font-weight: bold;display: inline-block;line-height: 1.2em;}#sk-container-id-1 div.sk-label-container {text-align: center;}#sk-container-id-1 div.sk-container {/* jupyter's `normalize.less` sets `[hidden] { display: none; }` but bootstrap.min.css set `[hidden] { display: none !important; }` so we also need the `!important` here to be able to override the default hidden behavior on the sphinx rendered scikit-learn.org. See: https://github.com/scikit-learn/scikit-learn/issues/21755 */display: inline-block !important;position: relative;}#sk-container-id-1 div.sk-text-repr-fallback {display: none;}</style><div id=\"sk-container-id-1\" class=\"sk-top-container\"><div class=\"sk-text-repr-fallback\"><pre>KNeighborsClassifier()</pre><b>In a Jupyter environment, please rerun this cell to show the HTML representation or trust the notebook. <br />On GitHub, the HTML representation is unable to render, please try loading this page with nbviewer.org.</b></div><div class=\"sk-container\" hidden><div class=\"sk-item\"><div class=\"sk-estimator sk-toggleable\"><input class=\"sk-toggleable__control sk-hidden--visually\" id=\"sk-estimator-id-1\" type=\"checkbox\" checked><label for=\"sk-estimator-id-1\" class=\"sk-toggleable__label sk-toggleable__label-arrow\">KNeighborsClassifier</label><div class=\"sk-toggleable__content\"><pre>KNeighborsClassifier()</pre></div></div></div></div></div>"
      ],
      "text/plain": [
       "KNeighborsClassifier()"
      ]
     },
     "execution_count": 25,
     "metadata": {},
     "output_type": "execute_result"
    }
   ],
   "source": [
    "from sklearn import neighbors\n",
    "\n",
    "X_train = train_data.loc[:,train_data.columns != \"Survived\"]\n",
    "y_train = train_data[\"Survived\"]\n",
    "\n",
    "# Utilizar KNN para determinar los vecinos más cercanos\n",
    "k = 5\n",
    "modelo = neighbors.KNeighborsClassifier(n_neighbors=k)\n",
    "modelo.fit(X_train, y_train)"
   ]
  },
  {
   "cell_type": "markdown",
   "id": "a9dba403-7294-47b1-bf56-44f23da9491f",
   "metadata": {},
   "source": [
    "9. Validar el modelo con datos de testing, agregar columna con cluster a test_data"
   ]
  },
  {
   "cell_type": "code",
   "execution_count": 26,
   "id": "562b38e1-da8e-43d2-b822-ce681460d387",
   "metadata": {},
   "outputs": [
    {
     "data": {
      "text/html": [
       "<div>\n",
       "<style scoped>\n",
       "    .dataframe tbody tr th:only-of-type {\n",
       "        vertical-align: middle;\n",
       "    }\n",
       "\n",
       "    .dataframe tbody tr th {\n",
       "        vertical-align: top;\n",
       "    }\n",
       "\n",
       "    .dataframe thead th {\n",
       "        text-align: right;\n",
       "    }\n",
       "</style>\n",
       "<table border=\"1\" class=\"dataframe\">\n",
       "  <thead>\n",
       "    <tr style=\"text-align: right;\">\n",
       "      <th></th>\n",
       "      <th>Age</th>\n",
       "      <th>SibSp</th>\n",
       "      <th>Parch</th>\n",
       "      <th>Fare</th>\n",
       "      <th>Survived</th>\n",
       "      <th>Pclass_2</th>\n",
       "      <th>Pclass_3</th>\n",
       "      <th>Embarked_Q</th>\n",
       "      <th>Embarked_S</th>\n",
       "      <th>Sex_male</th>\n",
       "      <th>IsMinor</th>\n",
       "      <th>y_pred</th>\n",
       "    </tr>\n",
       "  </thead>\n",
       "  <tbody>\n",
       "    <tr>\n",
       "      <th>0</th>\n",
       "      <td>34.5</td>\n",
       "      <td>0</td>\n",
       "      <td>0</td>\n",
       "      <td>7.8292</td>\n",
       "      <td>0</td>\n",
       "      <td>False</td>\n",
       "      <td>True</td>\n",
       "      <td>True</td>\n",
       "      <td>False</td>\n",
       "      <td>True</td>\n",
       "      <td>0</td>\n",
       "      <td>0</td>\n",
       "    </tr>\n",
       "    <tr>\n",
       "      <th>1</th>\n",
       "      <td>47.0</td>\n",
       "      <td>1</td>\n",
       "      <td>0</td>\n",
       "      <td>7.0000</td>\n",
       "      <td>1</td>\n",
       "      <td>False</td>\n",
       "      <td>True</td>\n",
       "      <td>False</td>\n",
       "      <td>True</td>\n",
       "      <td>False</td>\n",
       "      <td>0</td>\n",
       "      <td>0</td>\n",
       "    </tr>\n",
       "    <tr>\n",
       "      <th>2</th>\n",
       "      <td>62.0</td>\n",
       "      <td>0</td>\n",
       "      <td>0</td>\n",
       "      <td>9.6875</td>\n",
       "      <td>0</td>\n",
       "      <td>True</td>\n",
       "      <td>False</td>\n",
       "      <td>True</td>\n",
       "      <td>False</td>\n",
       "      <td>True</td>\n",
       "      <td>0</td>\n",
       "      <td>0</td>\n",
       "    </tr>\n",
       "    <tr>\n",
       "      <th>3</th>\n",
       "      <td>27.0</td>\n",
       "      <td>0</td>\n",
       "      <td>0</td>\n",
       "      <td>8.6625</td>\n",
       "      <td>0</td>\n",
       "      <td>False</td>\n",
       "      <td>True</td>\n",
       "      <td>False</td>\n",
       "      <td>True</td>\n",
       "      <td>True</td>\n",
       "      <td>0</td>\n",
       "      <td>1</td>\n",
       "    </tr>\n",
       "    <tr>\n",
       "      <th>4</th>\n",
       "      <td>22.0</td>\n",
       "      <td>1</td>\n",
       "      <td>1</td>\n",
       "      <td>12.2875</td>\n",
       "      <td>1</td>\n",
       "      <td>False</td>\n",
       "      <td>True</td>\n",
       "      <td>False</td>\n",
       "      <td>True</td>\n",
       "      <td>False</td>\n",
       "      <td>0</td>\n",
       "      <td>0</td>\n",
       "    </tr>\n",
       "  </tbody>\n",
       "</table>\n",
       "</div>"
      ],
      "text/plain": [
       "    Age  SibSp  Parch     Fare  Survived  Pclass_2  Pclass_3  Embarked_Q  \\\n",
       "0  34.5      0      0   7.8292         0     False      True        True   \n",
       "1  47.0      1      0   7.0000         1     False      True       False   \n",
       "2  62.0      0      0   9.6875         0      True     False        True   \n",
       "3  27.0      0      0   8.6625         0     False      True       False   \n",
       "4  22.0      1      1  12.2875         1     False      True       False   \n",
       "\n",
       "   Embarked_S  Sex_male  IsMinor  y_pred  \n",
       "0       False      True        0       0  \n",
       "1        True     False        0       0  \n",
       "2       False      True        0       0  \n",
       "3        True      True        0       1  \n",
       "4        True     False        0       0  "
      ]
     },
     "execution_count": 26,
     "metadata": {},
     "output_type": "execute_result"
    }
   ],
   "source": [
    "X_test = test_data.loc[:,test_data.columns != \"Survived\"]\n",
    "y_real = test_data[\"Survived\"]\n",
    "\n",
    "test_data[\"y_pred\"] = modelo.predict(X_test) \n",
    "test_data.head()"
   ]
  },
  {
   "cell_type": "markdown",
   "id": "bd025fd1-e1d5-47df-a9cb-e4992af54672",
   "metadata": {},
   "source": [
    "10. Calcular matriz de confusión"
   ]
  },
  {
   "cell_type": "code",
   "execution_count": 27,
   "id": "c16cda76-6460-4ed3-9426-95b5e559968f",
   "metadata": {},
   "outputs": [],
   "source": [
    "from sklearn.metrics import confusion_matrix, roc_curve, roc_auc_score"
   ]
  },
  {
   "cell_type": "code",
   "execution_count": 28,
   "id": "0a4830cb-e05a-4f54-8e5c-593597220bf4",
   "metadata": {},
   "outputs": [
    {
     "data": {
      "text/plain": [
       "array([[192,  74],\n",
       "       [ 71,  81]], dtype=int64)"
      ]
     },
     "execution_count": 28,
     "metadata": {},
     "output_type": "execute_result"
    }
   ],
   "source": [
    "matriz_confusion = confusion_matrix(test_data[\"Survived\"], test_data[\"y_pred\"])\n",
    "matriz_confusion"
   ]
  },
  {
   "cell_type": "code",
   "execution_count": 29,
   "id": "30dcf05f-d049-4f7e-ab7c-30d2f44eeb02",
   "metadata": {},
   "outputs": [
    {
     "data": {
      "text/plain": [
       "y_pred  Survived\n",
       "0       0           192\n",
       "        1            71\n",
       "1       0            74\n",
       "        1            81\n",
       "dtype: int64"
      ]
     },
     "execution_count": 29,
     "metadata": {},
     "output_type": "execute_result"
    }
   ],
   "source": [
    "test_data.groupby([\"y_pred\", \"Survived\"]).size()"
   ]
  },
  {
   "cell_type": "markdown",
   "id": "b0647506-fa6e-489b-b19f-b06aac31c2e3",
   "metadata": {},
   "source": [
    "11. Calcular Accuracy"
   ]
  },
  {
   "cell_type": "code",
   "execution_count": 30,
   "id": "2d4c7729-dc25-448e-a0f5-2b411f429952",
   "metadata": {},
   "outputs": [
    {
     "data": {
      "text/plain": [
       "0.65311004784689"
      ]
     },
     "execution_count": 30,
     "metadata": {},
     "output_type": "execute_result"
    }
   ],
   "source": [
    "(matriz_confusion[0][0] + matriz_confusion[1][1])/ matriz_confusion.sum()"
   ]
  },
  {
   "cell_type": "markdown",
   "id": "9de944c0-8c5c-4499-a612-c469202705c6",
   "metadata": {},
   "source": [
    "12. Calcular sensibilidad"
   ]
  },
  {
   "cell_type": "code",
   "execution_count": 31,
   "id": "23d46e37-0c7e-47d5-9cfe-d89d9cb8ff01",
   "metadata": {},
   "outputs": [
    {
     "data": {
      "text/plain": [
       "0.5328947368421053"
      ]
     },
     "execution_count": 31,
     "metadata": {},
     "output_type": "execute_result"
    }
   ],
   "source": [
    "(matriz_confusion[1][1])/(matriz_confusion[1][1] + matriz_confusion[1][0])"
   ]
  },
  {
   "cell_type": "markdown",
   "id": "8bd49b7a-8622-40a8-a859-36a2892bfaed",
   "metadata": {},
   "source": [
    "13. Calcular especificidad"
   ]
  },
  {
   "cell_type": "code",
   "execution_count": 32,
   "id": "4489c898-321d-485e-aa23-77f0329e5ce1",
   "metadata": {},
   "outputs": [
    {
     "data": {
      "text/plain": [
       "0.7218045112781954"
      ]
     },
     "execution_count": 32,
     "metadata": {},
     "output_type": "execute_result"
    }
   ],
   "source": [
    "(matriz_confusion[0][0])/(matriz_confusion[0][0] + matriz_confusion[0][1])"
   ]
  }
 ],
 "metadata": {
  "kernelspec": {
   "display_name": "Python 3 (ipykernel)",
   "language": "python",
   "name": "python3"
  },
  "language_info": {
   "codemirror_mode": {
    "name": "ipython",
    "version": 3
   },
   "file_extension": ".py",
   "mimetype": "text/x-python",
   "name": "python",
   "nbconvert_exporter": "python",
   "pygments_lexer": "ipython3",
   "version": "3.11.7"
  }
 },
 "nbformat": 4,
 "nbformat_minor": 5
}
